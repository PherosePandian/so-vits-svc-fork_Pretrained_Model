{
  "nbformat": 4,
  "nbformat_minor": 0,
  "metadata": {
    "colab": {
      "provenance": []
    },
    "kernelspec": {
      "name": "python3",
      "display_name": "Python 3"
    },
    "language_info": {
      "name": "python"
    }
  },
  "cells": [
    {
      "cell_type": "code",
      "execution_count": null,
      "metadata": {
        "id": "IOfY4aMSw3JZ"
      },
      "outputs": [],
      "source": [
        "# Downgrade Python to 3.10 and set it as default\n",
        "!sudo apt-get update -y\n",
        "!sudo apt-get install python3.10 python3.10-dev python3.10-venv -y\n",
        "!sudo update-alternatives --install /usr/bin/python3 python3 /usr/bin/python3.10 1\n",
        "!sudo update-alternatives --set python3 /usr/bin/python3.10\n",
        "!python3 --version\n",
        "\n",
        "!wget https://bootstrap.pypa.io/get-pip.py\n",
        "!python3 get-pip.py\n",
        "\n",
        "!git clone https://github.com/svc-develop-team/so-vits-svc -b 4.1-Stable\n",
        "%cd /content/so-vits-svc\n",
        "\n",
        "%pip install --upgrade pip setuptools\n",
        "\n",
        "%pip install -r requirements.txt --extra-index-url https://download.pytorch.org/whl/cu118\n",
        "\n",
        "\n",
        "!pip uninstall fairseq omegaconf hydra-core -y\n",
        "\n",
        "!pip install pip==23.3.1\n",
        "\n",
        "!pip cache purge\n",
        "\n",
        "!pip install fairseq==0.12.2\n",
        "\n",
        "!pip install faiss-cpu\n",
        "!pip install torch==2.0.0+cu118 torchaudio==2.0.0+cu118 --extra-index-url https://download.pytorch.org/whl/cu118\n",
        "!pip install matplotlib\n",
        "!pip install \"numpy<2.0\"\n",
        "!pip install soundfile\n",
        "!pip install librosa\n",
        "!pip install loguru\n",
        "\n"
      ]
    },
    {
      "cell_type": "code",
      "source": [
        "from google.colab import drive\n",
        "drive.mount(\"/content/drive\")\n",
        "\n",
        "sovits_data_dir = \"/content/drive/MyDrive/sovits4data/\"\n",
        "RAW_DIR = sovits_data_dir + \"raw/\"\n",
        "RESULTS_DIR = sovits_data_dir + \"results/\"\n",
        "FILELISTS_DIR = sovits_data_dir + \"filelists/\"\n",
        "CONFIGS_DIR = sovits_data_dir + \"configs/\"\n",
        "LOGS_DIR = sovits_data_dir + \"logs/44k/\"\n",
        "\n",
        "sync_raw_and_results = True\n",
        "if sync_raw_and_results:\n",
        "  !mkdir -p {RAW_DIR}\n",
        "  !mkdir -p {RESULTS_DIR}\n",
        "  !rm -rf /content/so-vits-svc/raw\n",
        "  !rm -rf /content/so-vits-svc/results\n",
        "  !ln -s {RAW_DIR} /content/so-vits-svc/raw\n",
        "  !ln -s {RESULTS_DIR} /content/so-vits-svc/results\n",
        "\n",
        "sync_configs_and_logs = True\n",
        "if sync_configs_and_logs:\n",
        "  !mkdir -p {FILELISTS_DIR}\n",
        "  !mkdir -p {CONFIGS_DIR}\n",
        "  !mkdir -p {LOGS_DIR}\n",
        "  !rm -rf /content/so-vits-svc/filelists\n",
        "  !rm -rf /content/so-vits-svc/configs\n",
        "  !rm -rf /content/so-vits-svc/logs/44k\n",
        "  !ln -s {FILELISTS_DIR} /content/so-vits-svc/filelists\n",
        "  !ln -s {CONFIGS_DIR} /content/so-vits-svc/configs\n",
        "  !ln -s {LOGS_DIR} /content/so-vits-svc/logs/44k"
      ],
      "metadata": {
        "id": "CFaDkcCCw6y2"
      },
      "execution_count": null,
      "outputs": []
    },
    {
      "cell_type": "code",
      "source": [
        "download_pretrained_model = True\n",
        "D_0_URL = \"https://huggingface.co/datasets/ms903/sovits4.0-768vec-layer12/resolve/main/sovits_768l12_pre_large_320k/clean_D_320000.pth\"\n",
        "G_0_URL = \"https://huggingface.co/datasets/ms903/sovits4.0-768vec-layer12/resolve/main/sovits_768l12_pre_large_320k/clean_G_320000.pth\"\n",
        "\n",
        "%cd /content/so-vits-svc\n",
        "\n",
        "if download_pretrained_model:\n",
        "    !curl -L {D_0_URL} -o logs/44k/D_0.pth\n",
        "    !md5sum logs/44k/D_0.pth\n",
        "    !curl -L {G_0_URL} -o logs/44k/G_0.pth\n",
        "    !md5sum logs/44k/G_0.pth"
      ],
      "metadata": {
        "id": "bllN5u6Dw_09"
      },
      "execution_count": null,
      "outputs": []
    },
    {
      "cell_type": "code",
      "source": [
        "sovits_data_dir = \"/content/drive/MyDrive/sovits4data/\"\n",
        "zip_filename = \"viveknewer.zip\"\n",
        "ZIP_PATH = sovits_data_dir + zip_filename\n",
        "\n",
        "!unzip -od /content/so-vits-svc/dataset_raw {ZIP_PATH}"
      ],
      "metadata": {
        "id": "Q43rwx8sxEA-"
      },
      "execution_count": null,
      "outputs": []
    },
    {
      "cell_type": "code",
      "source": [
        "%cd /content/so-vits-svc\n",
        "!python resample.py"
      ],
      "metadata": {
        "id": "zA9QrR5uxHE9"
      },
      "execution_count": null,
      "outputs": []
    },
    {
      "cell_type": "code",
      "source": [
        "%cd /content/so-vits-svc\n",
        "\n",
        "speech_encoder = \"vec768l12\"\n",
        "use_vol_aug = False\n",
        "vol_aug = \"--vol_aug\" if use_vol_aug else \"\"\n",
        "\n",
        "from pretrain.meta import download_dict\n",
        "download_dict = download_dict()\n",
        "\n",
        "url = download_dict[speech_encoder][\"url\"]\n",
        "output = download_dict[speech_encoder][\"output\"]\n",
        "\n",
        "import os\n",
        "if not os.path.exists(output):\n",
        "  !curl -L {url} -o {output}\n",
        "  !md5sum {output}\n",
        "\n",
        "!python preprocess_flist_config.py --speech_encoder={speech_encoder} {vol_aug}"
      ],
      "metadata": {
        "id": "--TaL7mSxJNS"
      },
      "execution_count": null,
      "outputs": []
    },
    {
      "cell_type": "code",
      "source": [
        "import os\n",
        "os.environ['MPLBACKEND'] = 'Agg'\n",
        "\n",
        "%cd /content/so-vits-svc\n",
        "\n",
        "f0_predictor = \"rmvpe\"\n",
        "use_diff = True\n",
        "\n",
        "os.makedirs(\"pretrain\", exist_ok=True)\n",
        "\n",
        "if not os.path.exists(\"./pretrain/rmvpe.pt\"):\n",
        "    !curl -L https://huggingface.co/datasets/ylzz1997/rmvpe_pretrain_model/resolve/main/rmvpe.pt -o pretrain/rmvpe.pt\n",
        "\n",
        "# Download NSF HiFi-GAN if --use_diff is enabled\n",
        "if use_diff:\n",
        "    diff_param = \"--use_diff\"\n",
        "    nsf_model_path = \"./pretrain/nsf_hifigan/model\"\n",
        "    if not os.path.exists(nsf_model_path):\n",
        "        !curl -L https://github.com/openvpi/vocoders/releases/download/nsf-hifigan-v1/nsf_hifigan_20221211.zip -o nsf_hifigan_20221211.zip\n",
        "        !unzip nsf_hifigan_20221211.zip\n",
        "        !rm -rf pretrain/nsf_hifigan\n",
        "        !mv -v nsf_hifigan pretrain\n",
        "else:\n",
        "    diff_param = \"\"\n",
        "\n",
        "!python preprocess_hubert_f0.py --f0_predictor={f0_predictor} {diff_param}\n"
      ],
      "metadata": {
        "id": "8cgTTBUrxR1G"
      },
      "execution_count": null,
      "outputs": []
    },
    {
      "cell_type": "code",
      "source": [
        "sovits_data_dir = \"/content/drive/MyDrive/sovits4data/\"\n",
        "CONFIG = sovits_data_dir + \"configs/\"\n",
        "FILELISTS = sovits_data_dir + \"filelists/\"\n",
        "DATASET = sovits_data_dir + \"dataset.zip\"\n",
        "\n",
        "!cp -vr {CONFIG} /content/so-vits-svc/\n",
        "!cp -vr {FILELISTS} /content/so-vits-svc/\n",
        "!unzip {DATASET} -d /"
      ],
      "metadata": {
        "id": "7D-JzHlExSdN"
      },
      "execution_count": null,
      "outputs": []
    },
    {
      "cell_type": "code",
      "source": [
        "%cd /content/so-vits-svc\n",
        "\n",
        "config_path = \"configs/config.json\"\n",
        "\n",
        "from pretrain.meta import get_speech_encoder\n",
        "url, output = get_speech_encoder(config_path)\n",
        "\n",
        "import os\n",
        "if not os.path.exists(output):\n",
        "    !curl -L {url} -o {output}\n",
        "\n",
        "!python train.py -c {config_path} -m 44k\n"
      ],
      "metadata": {
        "id": "m9t6zDn3xdil"
      },
      "execution_count": null,
      "outputs": []
    },
    {
      "cell_type": "code",
      "source": [
        "%cd /content/so-vits-svc\n",
        "!curl -L https://github.com/openvpi/vocoders/releases/download/nsf-hifigan-v1/nsf_hifigan_20221211.zip -o /content/so-vits-svc/nsf_hifigan_20221211.zip\n",
        "!unzip nsf_hifigan_20221211.zip\n",
        "!rm -rf pretrain/nsf_hifigan\n",
        "!mv -v nsf_hifigan pretrain\n"
      ],
      "metadata": {
        "id": "YxqmuERbxlmq"
      },
      "execution_count": null,
      "outputs": []
    },
    {
      "cell_type": "code",
      "source": [
        "%cd /content/so-vits-svc\n",
        "%run wav_upload.py --type audio"
      ],
      "metadata": {
        "id": "HmJ1oCEoxl9-"
      },
      "execution_count": null,
      "outputs": []
    },
    {
      "cell_type": "code",
      "source": [
        "wav_filename = \"YourWAVFile.wav\"  #@param {type:\"string\"}\n",
        "model_filename = \"G_210000.pth\"  #@param {type:\"string\"}\n",
        "model_path = \"/content/so-vits-svc/logs/44k/\" + model_filename\n",
        "speaker = \"viveknewer\"  #@param {type:\"string\"}\n",
        "trans = \"0\"  #@param {type:\"string\"}\n",
        "cluster_infer_ratio = \"0\"  #@param {type:\"string\"}\n",
        "auto_predict_f0 = False  #@param {type:\"boolean\"}\n",
        "apf = \"\"\n",
        "if auto_predict_f0:\n",
        "  apf = \" -a \"\n",
        "\n",
        "f0_predictor = \"rmvpe\" #@param [\"crepe\", \"pm\", \"dio\", \"harvest\", \"rmvpe\", \"fcpe\"]\n",
        "\n",
        "enhance = False  #@param {type:\"boolean\"}\n",
        "ehc = \"\"\n",
        "if enhance:\n",
        "  ehc = \" -eh \"\n",
        "#@markdown\n",
        "\n",
        "#@markdown Generally keep default:\n",
        "config_filename = \"config.json\"  #@param {type:\"string\"}\n",
        "config_path = \"/content/so-vits-svc/configs/\" + config_filename\n",
        "\n",
        "from pretrain.meta import get_speech_encoder\n",
        "url, output = get_speech_encoder(config_path)\n",
        "\n",
        "import os\n",
        "\n",
        "if f0_predictor == \"rmvpe\" and not os.path.exists(\"./pretrain/rmvpe.pt\"):\n",
        "  !curl -L https://huggingface.co/datasets/ylzz1997/rmvpe_pretrain_model/resolve/main/rmvpe.pt -o pretrain/rmvpe.pt\n",
        "\n",
        "if f0_predictor == \"fcpe\" and not os.path.exists(\"./pretrain/fcpe.pt\"):\n",
        "  !curl -L https://huggingface.co/datasets/ylzz1997/rmvpe_pretrain_model/resolve/main/fcpe.pt -o pretrain/fcpe.pt\n",
        "\n",
        "if not os.path.exists(output):\n",
        "  !curl -L {url} -o {output}\n",
        "\n",
        "kmeans_filenname = \"kmeans_10000.pt\"  #@param {type:\"string\"}\n",
        "kmeans_path = \"/content/so-vits-svc/logs/44k/\" + kmeans_filenname\n",
        "slice_db = \"-40\"  #@param {type:\"string\"}\n",
        "wav_format = \"flac\"  #@param {type:\"string\"}\n",
        "\n",
        "key = \"auto\" if auto_predict_f0 else f\"{trans}key\"\n",
        "cluster_name = \"\" if cluster_infer_ratio == \"0\" else f\"_{cluster_infer_ratio}\"\n",
        "isdiffusion = \"sovits\"\n",
        "wav_output = f\"/content/so-vits-svc/results/{wav_filename}_{key}_{speaker}{cluster_name}_{isdiffusion}_{f0_predictor}.{wav_format}\"\n",
        "\n",
        "%cd /content/so-vits-svc\n",
        "!python inference_main.py -n {wav_filename} -m {model_path} -s {speaker} -t {trans} -cr {cluster_infer_ratio} -c {config_path} -cm {kmeans_path} -sd {slice_db} -wf {wav_format} {apf} --f0_predictor={f0_predictor} {ehc}\n",
        "\n",
        "#@markdown\n",
        "\n",
        "#@markdown If you dont want to download from here, uncheck this.\n",
        "download_after_inference = True  #@param {type:\"boolean\"}\n",
        "\n",
        "if download_after_inference:\n",
        "  from google.colab import files\n",
        "  files.download(wav_output)"
      ],
      "metadata": {
        "id": "MPzvbONyxnYD"
      },
      "execution_count": null,
      "outputs": []
    }
  ]
}